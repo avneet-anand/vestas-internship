{
 "cells": [
  {
   "cell_type": "code",
   "execution_count": 2,
   "id": "bf0115c2",
   "metadata": {},
   "outputs": [],
   "source": [
    "import pandas as pd\n",
    "import numpy as np\n",
    "import matplotlib.pyplot as plt\n",
    "from sklearn.tree import DecisionTreeClassifier, plot_tree, export_text\n",
    "from sklearn.preprocessing import LabelEncoder\n",
    "from sklearn.model_selection import train_test_split\n",
    "from sklearn.metrics import classification_report, confusion_matrix, accuracy_score\n",
    "import seaborn as sns"
   ]
  },
  {
   "cell_type": "code",
   "execution_count": 3,
   "id": "a37f1e5b",
   "metadata": {},
   "outputs": [
    {
     "name": "stdout",
     "output_type": "stream",
     "text": [
      "Shape: (32561, 15)\n",
      "columns: ['age', 'workclass', 'fnlwgt', 'education', 'education-num', 'marital-status', 'occupation', 'relationship', 'race', 'sex', 'capital-gain', 'capital-loss', 'hours-per-week', 'native-country', 'income']\n",
      "\n",
      "First 5 rows:\n",
      "   age         workclass  fnlwgt  education  education-num  \\\n",
      "0   39         State-gov   77516  Bachelors             13   \n",
      "1   50  Self-emp-not-inc   83311  Bachelors             13   \n",
      "2   38           Private  215646    HS-grad              9   \n",
      "3   53           Private  234721       11th              7   \n",
      "4   28           Private  338409  Bachelors             13   \n",
      "\n",
      "       marital-status         occupation   relationship   race     sex  \\\n",
      "0       Never-married       Adm-clerical  Not-in-family  White    Male   \n",
      "1  Married-civ-spouse    Exec-managerial        Husband  White    Male   \n",
      "2            Divorced  Handlers-cleaners  Not-in-family  White    Male   \n",
      "3  Married-civ-spouse  Handlers-cleaners        Husband  Black    Male   \n",
      "4  Married-civ-spouse     Prof-specialty           Wife  Black  Female   \n",
      "\n",
      "   capital-gain  capital-loss  hours-per-week native-country income  \n",
      "0          2174             0              40  United-States  <=50K  \n",
      "1             0             0              13  United-States  <=50K  \n",
      "2             0             0              40  United-States  <=50K  \n",
      "3             0             0              40  United-States  <=50K  \n",
      "4             0             0              40           Cuba  <=50K  \n"
     ]
    }
   ],
   "source": [
    "columns = [\n",
    "    'age', 'workclass', 'fnlwgt', 'education', 'education-num', \n",
    "    'marital-status', 'occupation', 'relationship', 'race', 'sex',\n",
    "    'capital-gain', 'capital-loss', 'hours-per-week', 'native-country', 'income'\n",
    "]\n",
    "\n",
    "myDF = pd.read_csv(\"census income data/adult.data\", \n",
    "                   header = None, \n",
    "                   names = columns, \n",
    "                   skipinitialspace = True)\n",
    "\n",
    "print(f\"Shape: {myDF.shape}\")\n",
    "print(f\"columns: {myDF.columns.tolist()}\")\n",
    "print(\"\\nFirst 5 rows:\")\n",
    "print(myDF.head())\n"
   ]
  },
  {
   "cell_type": "code",
   "execution_count": 4,
   "id": "ae826497",
   "metadata": {},
   "outputs": [
    {
     "name": "stdout",
     "output_type": "stream",
     "text": [
      "Income distribution:\n",
      "income\n",
      "<=50K    24720\n",
      ">50K      7841\n",
      "Name: count, dtype: int64\n",
      "\n",
      "\n",
      "Percentage making >50K: 24.08%\n",
      "\n",
      "\n",
      "Columns with '?' (missing) values:\n",
      "  workclass: 1836 missing values (5.6%)\n",
      "  occupation: 1843 missing values (5.7%)\n",
      "  native-country: 583 missing values (1.8%)\n",
      "Numerical columns:\n",
      "                age        fnlwgt  education-num  capital-gain  capital-loss  \\\n",
      "count  32561.000000  3.256100e+04   32561.000000  32561.000000  32561.000000   \n",
      "mean      38.581647  1.897784e+05      10.080679   1077.648844     87.303830   \n",
      "std       13.640433  1.055500e+05       2.572720   7385.292085    402.960219   \n",
      "min       17.000000  1.228500e+04       1.000000      0.000000      0.000000   \n",
      "25%       28.000000  1.178270e+05       9.000000      0.000000      0.000000   \n",
      "50%       37.000000  1.783560e+05      10.000000      0.000000      0.000000   \n",
      "75%       48.000000  2.370510e+05      12.000000      0.000000      0.000000   \n",
      "max       90.000000  1.484705e+06      16.000000  99999.000000   4356.000000   \n",
      "\n",
      "       hours-per-week  \n",
      "count    32561.000000  \n",
      "mean        40.437456  \n",
      "std         12.347429  \n",
      "min          1.000000  \n",
      "25%         40.000000  \n",
      "50%         40.000000  \n",
      "75%         45.000000  \n",
      "max         99.000000  \n"
     ]
    }
   ],
   "source": [
    "print(\"Income distribution:\")\n",
    "print(myDF['income'].value_counts())\n",
    "print(\"\\n\")\n",
    "print(f\"Percentage making >50K: {(myDF['income'] == '>50K').mean():.2%}\\n\\n\")\n",
    "\n",
    "print(\"Columns with '?' (missing) values:\")\n",
    "for col in myDF.columns:\n",
    "    missing_count = (myDF[col] == '?').sum()\n",
    "    if missing_count > 0:\n",
    "        print(f\"  {col}: {missing_count} missing values ({missing_count/len(myDF)*100:.1f}%)\")\n",
    "\n",
    "\n",
    "print(\"Numerical columns:\")\n",
    "numerical_cols = ['age', 'fnlwgt', 'education-num', 'capital-gain', 'capital-loss', 'hours-per-week']\n",
    "print(myDF[numerical_cols].describe())"
   ]
  },
  {
   "cell_type": "code",
   "execution_count": 5,
   "id": "3c9b836a",
   "metadata": {},
   "outputs": [],
   "source": [
    "cleanDF = myDF.replace('?', 'Unknown')"
   ]
  },
  {
   "cell_type": "code",
   "execution_count": 6,
   "id": "730d34a0",
   "metadata": {},
   "outputs": [],
   "source": [
    "#print(\"Sample of current data:\")\n",
    "#print(cleanDF[['sex', 'workclass', 'income']].head())"
   ]
  },
  {
   "cell_type": "code",
   "execution_count": 7,
   "id": "3cd32033",
   "metadata": {},
   "outputs": [],
   "source": [
    "encoded_data = cleanDF.copy()\n",
    "text_columns = ['sex', 'workclass', 'income', 'education', \n",
    "                'marital-status', 'occupation', 'relationship',\n",
    "                'race', 'native-country']\n",
    "\n",
    "for col in text_columns:\n",
    "    encoder = LabelEncoder()\n",
    "    encoded_data[col] = encoder.fit_transform(cleanDF[col])\n",
    "\n",
    "#print(\"Sample of fully encoded data:\")\n",
    "#print(encoded_data.head())"
   ]
  },
  {
   "cell_type": "code",
   "execution_count": 8,
   "id": "19313ad4",
   "metadata": {},
   "outputs": [
    {
     "name": "stdout",
     "output_type": "stream",
     "text": [
      "Features shape: (32561, 14)\n",
      "Target shape: (32561,)\n",
      "Training set: 26048 samples\n",
      "Testing set: 6513 samples\n",
      "\n",
      "Training the decision tree...\n",
      "Training complete\n"
     ]
    }
   ],
   "source": [
    "x = encoded_data.drop('income', axis=1)\n",
    "y = encoded_data['income']\n",
    "\n",
    "print(f\"Features shape: {x.shape}\")\n",
    "print(f\"Target shape: {y.shape}\")\n",
    "\n",
    "x_train, x_test, y_train, y_test = train_test_split(\n",
    "    x, y, test_size=0.2, random_state=42\n",
    ")\n",
    "\n",
    "print(f\"Training set: {x_train.shape[0]} samples\")\n",
    "print(f\"Testing set: {x_test.shape[0]} samples\")\n",
    "\n",
    "tree_model = DecisionTreeClassifier(\n",
    "    max_depth=5,\n",
    "    random_state=42\n",
    ")\n",
    "\n",
    "print(\"\\nTraining the decision tree...\")\n",
    "tree_model.fit(x_train, y_train)\n",
    "print(\"Training complete\")"
   ]
  },
  {
   "cell_type": "code",
   "execution_count": 9,
   "id": "aea8bdf7",
   "metadata": {},
   "outputs": [
    {
     "name": "stdout",
     "output_type": "stream",
     "text": [
      "First 10 predictions: [0 0 1 0 0 1 1 0 0 0]\n",
      "First 10 actual values: [0 0 1 0 0 1 1 0 0 1]\n",
      "\n",
      "\n",
      "Accuracy: 0.8549 (85.49%)\n",
      "\n",
      "\n",
      "Classification Report:\n",
      "              precision    recall  f1-score   support\n",
      "\n",
      "           0       0.87      0.96      0.91      4942\n",
      "           1       0.79      0.54      0.64      1571\n",
      "\n",
      "    accuracy                           0.85      6513\n",
      "   macro avg       0.83      0.75      0.78      6513\n",
      "weighted avg       0.85      0.85      0.84      6513\n",
      "\n"
     ]
    }
   ],
   "source": [
    "y_pred = tree_model.predict(x_test)\n",
    "y_pred_prob = tree_model.predict_proba(x_test)\n",
    "\n",
    "print(\"First 10 predictions:\", y_pred[:10])\n",
    "print(\"First 10 actual values:\", y_test[:10].values)\n",
    "print(\"\\n\")\n",
    "\n",
    "accuracy = accuracy_score(y_test, y_pred)\n",
    "print(f\"Accuracy: {accuracy:.4f} ({accuracy*100:.2f}%)\")\n",
    "print(\"\\n\")\n",
    "\n",
    "print(\"Classification Report:\")\n",
    "print(classification_report(y_test, y_pred))"
   ]
  },
  {
   "cell_type": "code",
   "execution_count": 10,
   "id": "fcbc0974",
   "metadata": {},
   "outputs": [
    {
     "data": {
      "image/png": "[encoded data removed]",
      "text/plain": [
       "<Figure size 400x300 with 2 Axes>"
      ]
     },
     "metadata": {},
     "output_type": "display_data"
    },
    {
     "name": "stdout",
     "output_type": "stream",
     "text": [
      "Confusion Matrix:\n",
      "[[4720  222]\n",
      " [ 723  848]]\n"
     ]
    }
   ],
   "source": [
    "# creating confusion matrix\n",
    "cm = confusion_matrix(y_test, y_pred)\n",
    "\n",
    "# visualizing it\n",
    "plt.figure(figsize=(4, 3))\n",
    "sns.heatmap(cm, annot=True, fmt='d', cmap='Blues', \n",
    "            xticklabels=['<=50K', '>50K'], \n",
    "            yticklabels=['<=50K', '>50K'])\n",
    "plt.title('Confusion Matrix')\n",
    "plt.xlabel('Predicted')\n",
    "plt.ylabel('Actual')\n",
    "plt.show()\n",
    "\n",
    "print(\"Confusion Matrix:\")\n",
    "print(cm)"
   ]
  },
  {
   "cell_type": "code",
   "execution_count": 11,
   "id": "d9b2bd5f",
   "metadata": {},
   "outputs": [
    {
     "name": "stdout",
     "output_type": "stream",
     "text": [
      "Top 10 Most Important Features:\n",
      "           feature  importance\n",
      "7     relationship    0.458890\n",
      "10    capital-gain    0.232494\n",
      "4    education-num    0.221072\n",
      "11    capital-loss    0.054457\n",
      "12  hours-per-week    0.022230\n",
      "6       occupation    0.005329\n",
      "0              age    0.004546\n",
      "2           fnlwgt    0.000613\n",
      "1        workclass    0.000370\n",
      "3        education    0.000000\n",
      "\n",
      "\n"
     ]
    },
    {
     "data": {
      "image/png": "[encoded data removed]",
      "text/plain": [
       "<Figure size 500x400 with 1 Axes>"
      ]
     },
     "metadata": {},
     "output_type": "display_data"
    }
   ],
   "source": [
    "# getting feature importance\n",
    "feature_importance = tree_model.feature_importances_\n",
    "feature_names = x_train.columns\n",
    "\n",
    "# creating DataFrame for feature importance\n",
    "importance_df = pd.DataFrame({\n",
    "    'feature': feature_names,\n",
    "    'importance': feature_importance\n",
    "}).sort_values('importance', ascending=False)\n",
    "\n",
    "print(\"Top 10 Most Important Features:\")\n",
    "print(importance_df.head(10))\n",
    "print(\"\\n\")\n",
    "\n",
    "# visualizing feature importance\n",
    "plt.figure(figsize=(5, 4))\n",
    "sns.barplot(data=importance_df.head(10), y='feature', x='importance')\n",
    "plt.title('Top 10 Feature Importances')\n",
    "plt.xlabel('Importance Score')\n",
    "plt.show()"
   ]
  }
 ],
 "metadata": {
  "kernelspec": {
   "display_name": ".venv",
   "language": "python",
   "name": "python3"
  },
  "language_info": {
   "codemirror_mode": {
    "name": "ipython",
    "version": 3
   },
   "file_extension": ".py",
   "mimetype": "text/x-python",
   "name": "python",
   "nbconvert_exporter": "python",
   "pygments_lexer": "ipython3",
   "version": "3.13.5"
  }
 },
 "nbformat": 4,
 "nbformat_minor": 5
}
