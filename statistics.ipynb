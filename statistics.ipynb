{
 "cells": [
  {
   "cell_type": "code",
   "execution_count": null,
   "id": "9016883a",
   "metadata": {},
   "outputs": [],
   "source": [
    "import pandas as pd\n",
    "import numpy as np\n",
    "import matplotlib.pyplot as plt"
   ]
  },
  {
   "cell_type": "code",
   "execution_count": null,
   "id": "2987dc9f",
   "metadata": {},
   "outputs": [],
   "source": [
    "filepath = \"\"\n",
    "myDF = pd.read_csv(filepath)"
   ]
  },
  {
   "cell_type": "code",
   "execution_count": null,
   "id": "df340517",
   "metadata": {},
   "outputs": [],
   "source": [
    "def find_mean(data):\n",
    "    mean = np.mean(data)\n",
    "    return mean"
   ]
  },
  {
   "cell_type": "code",
   "execution_count": null,
   "id": "6c055864",
   "metadata": {},
   "outputs": [],
   "source": [
    "def find_median(data):\n",
    "    median = np.median(data)\n",
    "    return median"
   ]
  },
  {
   "cell_type": "code",
   "execution_count": null,
   "id": "017940ce",
   "metadata": {},
   "outputs": [],
   "source": [
    "def find_std_dev(data):\n",
    "    std_dev = np.std(data)\n",
    "    return std_dev"
   ]
  },
  {
   "cell_type": "code",
   "execution_count": null,
   "id": "8e548200",
   "metadata": {},
   "outputs": [],
   "source": [
    "data = myDF.iloc[:, 0].values\n",
    "print(\"Mean: \", find_mean(data))\n",
    "print(\"Median: \", find_median(data))\n",
    "print(\"Standard Deviation: \", find_std_dev(data))"
   ]
  },
  {
   "cell_type": "code",
   "execution_count": null,
   "id": "7fafbfd5",
   "metadata": {},
   "outputs": [],
   "source": [
    "plt.scatter(range(len(data)), data)\n",
    "plt.title(\"Scatter Plot of Data\")\n",
    "plt.show()"
   ]
  },
  {
   "cell_type": "code",
   "execution_count": null,
   "id": "5928f7e6",
   "metadata": {},
   "outputs": [],
   "source": []
  }
 ],
 "metadata": {
  "language_info": {
   "name": "python"
  }
 },
 "nbformat": 4,
 "nbformat_minor": 5
}
