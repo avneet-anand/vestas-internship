{
 "cells": [
  {
   "cell_type": "code",
   "execution_count": null,
   "id": "9016883a",
   "metadata": {},
   "outputs": [],
   "source": [
    "import pandas as pd\n",
    "import numpy as np\n",
    "import matplotlib.pyplot as plt"
   ]
  },
  {
   "cell_type": "code",
   "execution_count": null,
   "id": "2987dc9f",
   "metadata": {},
   "outputs": [],
   "source": [
    "filepath = \"\"\n",
    "myDF = pd.read_csv(filepath)"
   ]
  },
  {
   "cell_type": "code",
   "execution_count": null,
   "id": "df340517",
   "metadata": {},
   "outputs": [],
   "source": [
    "def find_mean(data):\n",
    "    mean = np.mean(data)\n",
    "    return mean"
   ]
  },
  {
   "cell_type": "code",
   "execution_count": null,
   "id": "6c055864",
   "metadata": {},
   "outputs": [],
   "source": [
    "def find_median(data):\n",
    "    median = np.median(data)\n",
    "    return median"
   ]
  },
  {
   "cell_type": "code",
   "execution_count": null,
   "id": "017940ce",
   "metadata": {},
   "outputs": [],
   "source": [
    "def find_std_dev(data):\n",
    "    std_dev = np.std(data)\n",
    "    return std_dev"
   ]
  },
  {
   "cell_type": "code",
   "execution_count": null,
   "id": "8e548200",
   "metadata": {},
   "outputs": [],
   "source": [
    "# assuming data is 1-D and data is in first column of csv file\n",
    "data = myDF.iloc[:, 0].values"
   ]
  },
  {
   "cell_type": "code",
   "execution_count": null,
   "id": "3f07b7d1",
   "metadata": {},
   "outputs": [],
   "source": [
    "mean = find_mean(data)\n",
    "median = find_median(data)\n",
    "std_dev = find_std_dev(data)\n",
    "print(\"Mean: \", mean)\n",
    "print(\"Median: \", median)\n",
    "print(\"Standard Deviation: \", std_dev)"
   ]
  },
  {
   "cell_type": "code",
   "execution_count": null,
   "id": "cb9ccba3",
   "metadata": {},
   "outputs": [],
   "source": [
    "z_scores = (data - mean) / std_dev\n",
    "outliers = data[np.abs(z_scores) > 3]\n",
    "print(\"Outliers:\", outliers)"
   ]
  },
  {
   "cell_type": "code",
   "execution_count": null,
   "id": "7fafbfd5",
   "metadata": {},
   "outputs": [],
   "source": [
    "plt.scatter(range(len(data)), data)\n",
    "plt.title(\"Scatter Plot of Data\")\n",
    "plt.show()"
   ]
  }
 ],
 "metadata": {
  "language_info": {
   "name": "python"
  }
 },
 "nbformat": 4,
 "nbformat_minor": 5
}
